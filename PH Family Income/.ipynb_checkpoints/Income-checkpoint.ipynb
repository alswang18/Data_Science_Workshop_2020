{
 "cells": [
  {
   "cell_type": "code",
   "execution_count": 1,
   "metadata": {},
   "outputs": [],
   "source": [
    "import pandas as pd\n",
    "import matplotlib.pyplot as plt\n",
    "import numpy as np\n",
    "import time\n",
    "import pandas_profiling"
   ]
  },
  {
   "cell_type": "code",
   "execution_count": 2,
   "metadata": {},
   "outputs": [
    {
     "name": "stdout",
     "output_type": "stream",
     "text": [
      "41544\n"
     ]
    }
   ],
   "source": [
    "df = pd.read_csv(\"Family-Income-and-Expenditure.csv\")\n",
    "df.describe()\n",
    "orig_shape = df.shape\n",
    "print(orig_shape[0])"
   ]
  },
  {
   "cell_type": "code",
   "execution_count": 3,
   "metadata": {},
   "outputs": [],
   "source": [
    "# uncomment two lines below if you want to generate an HTML file that visualizes all the data\n",
    "# profile = df.profile_report(title='Philippine Household Income Report')\n",
    "# profile.to_file(output_file=\"Pandas Profiling Report — Philippine Household Income .html\")"
   ]
  },
  {
   "cell_type": "code",
   "execution_count": 4,
   "metadata": {},
   "outputs": [
    {
     "data": {
      "text/plain": [
       "Total Household Income                            int64\n",
       "Region                                           object\n",
       "Total Food Expenditure                            int64\n",
       "Main Source of Income                            object\n",
       "Agricultural Household indicator                  int64\n",
       "Bread and Cereals Expenditure                     int64\n",
       "Total Rice Expenditure                            int64\n",
       "Meat Expenditure                                  int64\n",
       "Total Fish and  marine products Expenditure       int64\n",
       "Fruit Expenditure                                 int64\n",
       "Vegetables Expenditure                            int64\n",
       "Restaurant and hotels Expenditure                 int64\n",
       "Alcoholic Beverages Expenditure                   int64\n",
       "Tobacco Expenditure                               int64\n",
       "Clothing, Footwear and Other Wear Expenditure     int64\n",
       "Housing and water Expenditure                     int64\n",
       "Imputed House Rental Value                        int64\n",
       "Medical Care Expenditure                          int64\n",
       "Transportation Expenditure                        int64\n",
       "Communication Expenditure                         int64\n",
       "Education Expenditure                             int64\n",
       "Miscellaneous Goods and Services Expenditure      int64\n",
       "Special Occasions Expenditure                     int64\n",
       "Crop Farming and Gardening expenses               int64\n",
       "Total Income from Entrepreneurial Acitivites      int64\n",
       "Household Head Sex                               object\n",
       "Household Head Age                                int64\n",
       "Household Head Marital Status                    object\n",
       "Household Head Highest Grade Completed           object\n",
       "Household Head Job or Business Indicator         object\n",
       "Household Head Occupation                        object\n",
       "Household Head Class of Worker                   object\n",
       "Type of Household                                object\n",
       "Total Number of Family members                    int64\n",
       "Members with age less than 5 year old             int64\n",
       "Members with age 5 - 17 years old                 int64\n",
       "Total number of family members employed           int64\n",
       "Type of Building/House                           object\n",
       "Type of Roof                                     object\n",
       "Type of Walls                                    object\n",
       "House Floor Area                                  int64\n",
       "House Age                                         int64\n",
       "Number of bedrooms                                int64\n",
       "Tenure Status                                    object\n",
       "Toilet Facilities                                object\n",
       "Electricity                                       int64\n",
       "Main Source of Water Supply                      object\n",
       "Number of Television                              int64\n",
       "Number of CD/VCD/DVD                              int64\n",
       "Number of Component/Stereo set                    int64\n",
       "Number of Refrigerator/Freezer                    int64\n",
       "Number of Washing Machine                         int64\n",
       "Number of Airconditioner                          int64\n",
       "Number of Car, Jeep, Van                          int64\n",
       "Number of Landline/wireless telephones            int64\n",
       "Number of Cellular phone                          int64\n",
       "Number of Personal Computer                       int64\n",
       "Number of Stove with Oven/Gas Range               int64\n",
       "Number of Motorized Banca                         int64\n",
       "Number of Motorcycle/Tricycle                     int64\n",
       "dtype: object"
      ]
     },
     "execution_count": 4,
     "metadata": {},
     "output_type": "execute_result"
    }
   ],
   "source": [
    "df.dtypes"
   ]
  },
  {
   "cell_type": "code",
   "execution_count": 5,
   "metadata": {},
   "outputs": [
    {
     "data": {
      "text/html": [
       "<div>\n",
       "<style scoped>\n",
       "    .dataframe tbody tr th:only-of-type {\n",
       "        vertical-align: middle;\n",
       "    }\n",
       "\n",
       "    .dataframe tbody tr th {\n",
       "        vertical-align: top;\n",
       "    }\n",
       "\n",
       "    .dataframe thead th {\n",
       "        text-align: right;\n",
       "    }\n",
       "</style>\n",
       "<table border=\"1\" class=\"dataframe\">\n",
       "  <thead>\n",
       "    <tr style=\"text-align: right;\">\n",
       "      <th></th>\n",
       "      <th>Total Household Income</th>\n",
       "      <th>Region</th>\n",
       "      <th>Total Food Expenditure</th>\n",
       "      <th>Main Source of Income</th>\n",
       "      <th>Agricultural Household indicator</th>\n",
       "      <th>Bread and Cereals Expenditure</th>\n",
       "      <th>Total Rice Expenditure</th>\n",
       "      <th>Meat Expenditure</th>\n",
       "      <th>Total Fish and  marine products Expenditure</th>\n",
       "      <th>Fruit Expenditure</th>\n",
       "      <th>...</th>\n",
       "      <th>Number of Refrigerator/Freezer</th>\n",
       "      <th>Number of Washing Machine</th>\n",
       "      <th>Number of Airconditioner</th>\n",
       "      <th>Number of Car, Jeep, Van</th>\n",
       "      <th>Number of Landline/wireless telephones</th>\n",
       "      <th>Number of Cellular phone</th>\n",
       "      <th>Number of Personal Computer</th>\n",
       "      <th>Number of Stove with Oven/Gas Range</th>\n",
       "      <th>Number of Motorized Banca</th>\n",
       "      <th>Number of Motorcycle/Tricycle</th>\n",
       "    </tr>\n",
       "  </thead>\n",
       "  <tbody>\n",
       "    <tr>\n",
       "      <th>0</th>\n",
       "      <td>480332</td>\n",
       "      <td>CAR</td>\n",
       "      <td>117848</td>\n",
       "      <td>Wage/Salaries</td>\n",
       "      <td>0</td>\n",
       "      <td>42140</td>\n",
       "      <td>38300</td>\n",
       "      <td>24676</td>\n",
       "      <td>16806</td>\n",
       "      <td>3325</td>\n",
       "      <td>...</td>\n",
       "      <td>1</td>\n",
       "      <td>1</td>\n",
       "      <td>0</td>\n",
       "      <td>0</td>\n",
       "      <td>0</td>\n",
       "      <td>2</td>\n",
       "      <td>1</td>\n",
       "      <td>0</td>\n",
       "      <td>0</td>\n",
       "      <td>1</td>\n",
       "    </tr>\n",
       "    <tr>\n",
       "      <th>1</th>\n",
       "      <td>198235</td>\n",
       "      <td>CAR</td>\n",
       "      <td>67766</td>\n",
       "      <td>Wage/Salaries</td>\n",
       "      <td>0</td>\n",
       "      <td>17329</td>\n",
       "      <td>13008</td>\n",
       "      <td>17434</td>\n",
       "      <td>11073</td>\n",
       "      <td>2035</td>\n",
       "      <td>...</td>\n",
       "      <td>0</td>\n",
       "      <td>1</td>\n",
       "      <td>0</td>\n",
       "      <td>0</td>\n",
       "      <td>0</td>\n",
       "      <td>3</td>\n",
       "      <td>1</td>\n",
       "      <td>0</td>\n",
       "      <td>0</td>\n",
       "      <td>2</td>\n",
       "    </tr>\n",
       "    <tr>\n",
       "      <th>2</th>\n",
       "      <td>82785</td>\n",
       "      <td>CAR</td>\n",
       "      <td>61609</td>\n",
       "      <td>Wage/Salaries</td>\n",
       "      <td>1</td>\n",
       "      <td>34182</td>\n",
       "      <td>32001</td>\n",
       "      <td>7783</td>\n",
       "      <td>2590</td>\n",
       "      <td>1730</td>\n",
       "      <td>...</td>\n",
       "      <td>0</td>\n",
       "      <td>0</td>\n",
       "      <td>0</td>\n",
       "      <td>0</td>\n",
       "      <td>0</td>\n",
       "      <td>0</td>\n",
       "      <td>0</td>\n",
       "      <td>0</td>\n",
       "      <td>0</td>\n",
       "      <td>0</td>\n",
       "    </tr>\n",
       "    <tr>\n",
       "      <th>3</th>\n",
       "      <td>107589</td>\n",
       "      <td>CAR</td>\n",
       "      <td>78189</td>\n",
       "      <td>Wage/Salaries</td>\n",
       "      <td>0</td>\n",
       "      <td>34030</td>\n",
       "      <td>28659</td>\n",
       "      <td>10914</td>\n",
       "      <td>10812</td>\n",
       "      <td>690</td>\n",
       "      <td>...</td>\n",
       "      <td>0</td>\n",
       "      <td>0</td>\n",
       "      <td>0</td>\n",
       "      <td>0</td>\n",
       "      <td>0</td>\n",
       "      <td>1</td>\n",
       "      <td>0</td>\n",
       "      <td>0</td>\n",
       "      <td>0</td>\n",
       "      <td>0</td>\n",
       "    </tr>\n",
       "  </tbody>\n",
       "</table>\n",
       "<p>4 rows × 60 columns</p>\n",
       "</div>"
      ],
      "text/plain": [
       "   Total Household Income Region  Total Food Expenditure  \\\n",
       "0                  480332    CAR                  117848   \n",
       "1                  198235    CAR                   67766   \n",
       "2                   82785    CAR                   61609   \n",
       "3                  107589    CAR                   78189   \n",
       "\n",
       "  Main Source of Income  Agricultural Household indicator  \\\n",
       "0         Wage/Salaries                                 0   \n",
       "1         Wage/Salaries                                 0   \n",
       "2         Wage/Salaries                                 1   \n",
       "3         Wage/Salaries                                 0   \n",
       "\n",
       "   Bread and Cereals Expenditure  Total Rice Expenditure  Meat Expenditure  \\\n",
       "0                          42140                   38300             24676   \n",
       "1                          17329                   13008             17434   \n",
       "2                          34182                   32001              7783   \n",
       "3                          34030                   28659             10914   \n",
       "\n",
       "   Total Fish and  marine products Expenditure  Fruit Expenditure  ...  \\\n",
       "0                                        16806               3325  ...   \n",
       "1                                        11073               2035  ...   \n",
       "2                                         2590               1730  ...   \n",
       "3                                        10812                690  ...   \n",
       "\n",
       "   Number of Refrigerator/Freezer  Number of Washing Machine  \\\n",
       "0                               1                          1   \n",
       "1                               0                          1   \n",
       "2                               0                          0   \n",
       "3                               0                          0   \n",
       "\n",
       "   Number of Airconditioner  Number of Car, Jeep, Van  \\\n",
       "0                         0                         0   \n",
       "1                         0                         0   \n",
       "2                         0                         0   \n",
       "3                         0                         0   \n",
       "\n",
       "   Number of Landline/wireless telephones  Number of Cellular phone  \\\n",
       "0                                       0                         2   \n",
       "1                                       0                         3   \n",
       "2                                       0                         0   \n",
       "3                                       0                         1   \n",
       "\n",
       "   Number of Personal Computer  Number of Stove with Oven/Gas Range  \\\n",
       "0                            1                                    0   \n",
       "1                            1                                    0   \n",
       "2                            0                                    0   \n",
       "3                            0                                    0   \n",
       "\n",
       "   Number of Motorized Banca  Number of Motorcycle/Tricycle  \n",
       "0                          0                              1  \n",
       "1                          0                              2  \n",
       "2                          0                              0  \n",
       "3                          0                              0  \n",
       "\n",
       "[4 rows x 60 columns]"
      ]
     },
     "execution_count": 5,
     "metadata": {},
     "output_type": "execute_result"
    }
   ],
   "source": [
    "df.head(4)"
   ]
  },
  {
   "cell_type": "code",
   "execution_count": 6,
   "metadata": {},
   "outputs": [],
   "source": [
    "list_of_objects = [\"Region\",\"Main Source of Income\",\"Household Head Sex\",\"Household Head Marital Status\",\n",
    "                   \"Household Head Marital Status\",\n",
    "                   \"Household Head Highest Grade Completed\",\"Household Head Job or Business Indicator\",\n",
    "                   \"Household Head Occupation\",\"Household Head Class of Worker\",\"Type of Building/House\",\"Type of Roof\",\"Type of Walls\",\n",
    "                  \"Tenure Status\",\"Toilet Facilities\",\"Main Source of Water Supply\"]"
   ]
  },
  {
   "cell_type": "code",
   "execution_count": 7,
   "metadata": {},
   "outputs": [
    {
     "name": "stdout",
     "output_type": "stream",
     "text": [
      "0    CAR\n",
      "1    CAR\n",
      "2    CAR\n",
      "3    CAR\n",
      "4    CAR\n",
      "Name: Region, dtype: object\n",
      "0    Wage/Salaries\n",
      "1    Wage/Salaries\n",
      "2    Wage/Salaries\n",
      "3    Wage/Salaries\n",
      "4    Wage/Salaries\n",
      "Name: Main Source of Income, dtype: object\n",
      "0    Female\n",
      "1      Male\n",
      "2      Male\n",
      "3      Male\n",
      "4      Male\n",
      "Name: Household Head Sex, dtype: object\n",
      "0     Single\n",
      "1    Married\n",
      "2    Married\n",
      "3    Married\n",
      "4    Married\n",
      "Name: Household Head Marital Status, dtype: object\n",
      "0     Single\n",
      "1    Married\n",
      "2    Married\n",
      "3    Married\n",
      "4    Married\n",
      "Name: Household Head Marital Status, dtype: object\n",
      "0    Teacher Training and Education Sciences Programs\n",
      "1                         Transport Services Programs\n",
      "2                                             Grade 3\n",
      "3                                 Elementary Graduate\n",
      "4                                 Elementary Graduate\n",
      "Name: Household Head Highest Grade Completed, dtype: object\n",
      "0    With Job/Business\n",
      "1    With Job/Business\n",
      "2    With Job/Business\n",
      "3    With Job/Business\n",
      "4    With Job/Business\n",
      "Name: Household Head Job or Business Indicator, dtype: object\n",
      "0    General elementary education teaching professi...\n",
      "1                                 Transport conductors\n",
      "2                               Farmhands and laborers\n",
      "3                                         Rice farmers\n",
      "4    General managers/managing proprietors in trans...\n",
      "Name: Household Head Occupation, dtype: object\n",
      "0        Worked for government/government corporation\n",
      "1                    Worked for private establishment\n",
      "2                    Worked for private establishment\n",
      "3    Employer in own family-operated farm or business\n",
      "4                   Self-employed wihout any employee\n",
      "Name: Household Head Class of Worker, dtype: object\n",
      "0    Single house\n",
      "1    Single house\n",
      "2    Single house\n",
      "3    Single house\n",
      "4    Single house\n",
      "Name: Type of Building/House, dtype: object\n",
      "0    Strong material(galvanized,iron,al,tile,concre...\n",
      "1    Strong material(galvanized,iron,al,tile,concre...\n",
      "2                   Light material (cogon,nipa,anahaw)\n",
      "3                   Light material (cogon,nipa,anahaw)\n",
      "4                   Light material (cogon,nipa,anahaw)\n",
      "Name: Type of Roof, dtype: object\n",
      "0          Strong\n",
      "1          Strong\n",
      "2           Light\n",
      "3           Light\n",
      "4    Quite Strong\n",
      "Name: Type of Walls, dtype: object\n",
      "0    Own or owner-like possession of house and lot\n",
      "1    Own or owner-like possession of house and lot\n",
      "2    Own or owner-like possession of house and lot\n",
      "3    Own or owner-like possession of house and lot\n",
      "4    Own or owner-like possession of house and lot\n",
      "Name: Tenure Status, dtype: object\n",
      "0    Water-sealed, sewer septic tank, used exclusiv...\n",
      "1    Water-sealed, sewer septic tank, used exclusiv...\n",
      "2    Water-sealed, sewer septic tank, shared with o...\n",
      "3                                           Closed pit\n",
      "4    Water-sealed, sewer septic tank, used exclusiv...\n",
      "Name: Toilet Facilities, dtype: object\n",
      "0    Own use, faucet, community water system\n",
      "1    Own use, faucet, community water system\n",
      "2     Shared, faucet, community water system\n",
      "3    Own use, faucet, community water system\n",
      "4    Own use, faucet, community water system\n",
      "Name: Main Source of Water Supply, dtype: object\n"
     ]
    }
   ],
   "source": [
    "for i in list_of_objects:\n",
    "    print(df[i].head(5))"
   ]
  },
  {
   "cell_type": "code",
   "execution_count": 8,
   "metadata": {},
   "outputs": [],
   "source": [
    "# example if you deal with an ordinal variable\n",
    "# mapper = {'small':0 , 'medium': 1, 'large':2 }\n",
    "# ordvar = df.replace({columnName:mapper}})\n",
    "\n",
    "df = pd.get_dummies(df, columns =list_of_objects, drop_first = True)"
   ]
  },
  {
   "cell_type": "code",
   "execution_count": 9,
   "metadata": {},
   "outputs": [],
   "source": [
    "# with pd.option_context('display.max_rows', None, 'display.max_columns', None):  \n",
    "#     print(df.dtypes)\n",
    "# more options can be specified also"
   ]
  },
  {
   "cell_type": "code",
   "execution_count": 10,
   "metadata": {},
   "outputs": [],
   "source": [
    "#I forgot to do this variable and made a mistake. This is how we debug our code.\n",
    "df = pd.get_dummies(df, columns =[\"Type of Household\"], drop_first = True)"
   ]
  },
  {
   "cell_type": "code",
   "execution_count": 11,
   "metadata": {},
   "outputs": [
    {
     "data": {
      "text/plain": [
       "41544"
      ]
     },
     "execution_count": 11,
     "metadata": {},
     "output_type": "execute_result"
    }
   ],
   "source": [
    "df.shape[0] #number of rows for sanity checking"
   ]
  },
  {
   "cell_type": "code",
   "execution_count": 12,
   "metadata": {},
   "outputs": [],
   "source": [
    "y = np.log(df[\"Total Household Income\"])\n",
    "X = df.drop([\"Total Household Income\"], axis = 1)"
   ]
  },
  {
   "cell_type": "code",
   "execution_count": 13,
   "metadata": {},
   "outputs": [],
   "source": [
    "from sklearn.model_selection import train_test_split\n",
    "X_train, X_test, y_train, y_test = train_test_split(X, y,test_size=0.20)"
   ]
  },
  {
   "cell_type": "code",
   "execution_count": 14,
   "metadata": {},
   "outputs": [
    {
     "name": "stdout",
     "output_type": "stream",
     "text": [
      "35.1676459312439\n"
     ]
    }
   ],
   "source": [
    "from sklearn.ensemble import RandomForestRegressor\n",
    "\n",
    "model = RandomForestRegressor(n_jobs=-1)\n",
    "t0 = time.time()\n",
    "model.fit(X_train, y_train)\n",
    "t1 = time.time()\n",
    "print(t1-t0)"
   ]
  },
  {
   "cell_type": "code",
   "execution_count": 15,
   "metadata": {},
   "outputs": [
    {
     "name": "stdout",
     "output_type": "stream",
     "text": [
      "144.59770798683167\n",
      "[0.89574744 0.90227253 0.89668558 0.8982108  0.8954899 ]\n"
     ]
    }
   ],
   "source": [
    "from sklearn.model_selection import cross_val_score\n",
    "model1 = RandomForestRegressor(n_jobs=-1)\n",
    "t0 = time.time()\n",
    "cv_score = cross_val_score(model1, X_train, y_train, cv=5, scoring = \"r2\")\n",
    "t1 = time.time()\n",
    "print(t1-t0)\n",
    "print(cv_score)"
   ]
  },
  {
   "cell_type": "code",
   "execution_count": 16,
   "metadata": {},
   "outputs": [],
   "source": [
    "important_features_dict = {}\n",
    "for x,i in enumerate(model.feature_importances_):\n",
    "    important_features_dict[x]=i\n",
    "\n",
    "\n",
    "important_features_list = sorted(important_features_dict,\n",
    "                                 key=important_features_dict.get,\n",
    "                                 reverse=True)"
   ]
  },
  {
   "cell_type": "code",
   "execution_count": 17,
   "metadata": {},
   "outputs": [
    {
     "name": "stdout",
     "output_type": "stream",
     "text": [
      "1: Miscellaneous Goods and Services Expenditure: 0.466654226833731\n",
      "2: Total Food Expenditure: 0.16673948180768183\n",
      "3: Housing and water Expenditure: 0.1536470530586857\n",
      "4: Communication Expenditure: 0.05593044703707512\n",
      "5: Total Income from Entrepreneurial Acitivites: 0.039197098321862606\n",
      "6: Transportation Expenditure: 0.01374841244068904\n",
      "7: Medical Care Expenditure: 0.008908901588151611\n",
      "8: Special Occasions Expenditure: 0.008247695617145204\n",
      "9: Clothing, Footwear and Other Wear Expenditure: 0.007550968197271785\n",
      "10: Meat Expenditure: 0.004390007881701448\n",
      "11: Education Expenditure: 0.004277581853716529\n",
      "12: Total number of family members employed: 0.0038945811473380834\n",
      "13: Fruit Expenditure: 0.0038241868021898343\n",
      "14: Household Head Age: 0.003572547968452918\n",
      "15: Total Fish and  marine products Expenditure: 0.0033793768399994163\n",
      "16: House Floor Area: 0.003363460855968698\n",
      "17: Restaurant and hotels Expenditure: 0.0032019034640063788\n",
      "18: Imputed House Rental Value: 0.003016440413520561\n",
      "19: Vegetables Expenditure: 0.0029801234061350343\n",
      "20: Bread and Cereals Expenditure: 0.0027305532347956726\n",
      "21: Total Rice Expenditure: 0.0027241485291418562\n",
      "22: Alcoholic Beverages Expenditure: 0.002713998797219188\n",
      "23: House Age: 0.0025960854781696113\n",
      "24: Tobacco Expenditure: 0.0020005152897783706\n",
      "25: Number of Cellular phone: 0.001809457217432798\n",
      "26: Number of bedrooms: 0.0013770838703458749\n",
      "27: Main Source of Income_Wage/Salaries: 0.0013100801889229965\n",
      "28: Total Number of Family members: 0.001222130415203676\n",
      "29: Crop Farming and Gardening expenses: 0.0011161577006213452\n",
      "30: Main Source of Income_Other sources of Income: 0.0008806325470767252\n",
      "31: Members with age 5 - 17 years old: 0.000835775627787477\n",
      "32: Number of Personal Computer: 0.0007670547380621276\n",
      "33: Number of Refrigerator/Freezer: 0.0006482862964705653\n",
      "34: Number of Television: 0.0006272203948249815\n",
      "35: Number of Car, Jeep, Van: 0.0006145193999275943\n",
      "36: Region_VII - Central Visayas: 0.0006048568721924096\n",
      "37: Region_XII - SOCCSKSARGEN: 0.0005836510114605021\n",
      "38: Number of Airconditioner: 0.0005201440792027941\n",
      "39: Number of Motorcycle/Tricycle: 0.0005199868944561235\n",
      "40: Agricultural Household indicator: 0.0004901981569673862\n",
      "41: Members with age less than 5 year old: 0.0004236837291433326\n",
      "42: Number of CD/VCD/DVD: 0.00041011443859777\n",
      "43: Region_II - Cagayan Valley: 0.0003666497677369151\n",
      "44: Number of Washing Machine: 0.0003622122228358801\n",
      "45: Toilet Facilities_Water-sealed, sewer septic tank, used exclusively by household: 0.0003453198085811726\n",
      "46: Household Head Class of Worker_Self-employed wihout any employee: 0.00034205374549298515\n",
      "47: Type of Household_Single Family: 0.0003376876914751131\n",
      "48: Region_III - Central Luzon: 0.00032562488563596913\n",
      "49: Number of Stove with Oven/Gas Range: 0.0003133137575836077\n",
      "50: Main Source of Water Supply_Own use, faucet, community water system: 0.00030517218806837786\n",
      "51: Number of Component/Stereo set: 0.00029744961131844316\n",
      "52: Household Head Job or Business Indicator_With Job/Business: 0.00029092417358877077\n",
      "53: Tenure Status_Own or owner-like possession of house and lot: 0.0002865902666934289\n",
      "54: Household Head Class of Worker_Worked for private establishment: 0.0002694076681404756\n",
      "55: Household Head Class of Worker_Worked for government/government corporation: 0.0002590344509833415\n",
      "56: Household Head Highest Grade Completed_High School Graduate: 0.00025331773633812104\n",
      "57: Type of Walls_Strong: 0.00025150266200352645\n",
      "58: Household Head Sex_Male: 0.0002493721229495555\n",
      "59: Household Head Highest Grade Completed_Elementary Graduate: 0.0002346753337793453\n",
      "60: Main Source of Water Supply_Own use, tubed/piped deep well: 0.00021935604311391498\n",
      "61: Region_CAR: 0.00021176472671358948\n",
      "62: Region_IX - Zasmboanga Peninsula: 0.0002010039860539115\n",
      "63: Type of Roof_Strong material(galvanized,iron,al,tile,concrete,brick,stone,asbestos): 0.00019875028313005695\n",
      "64: Household Head Highest Grade Completed_Teacher Training and Education Sciences Programs: 0.00019519327682189866\n",
      "65: Electricity: 0.00019085950238922902\n",
      "66: Region_IVA - CALABARZON: 0.000189600632117155\n",
      "67: Main Source of Water Supply_Shared, tubed/piped deep well: 0.00018772637939206498\n",
      "68: Region_I - Ilocos Region: 0.00018052103309189948\n",
      "69: Region_X - Northern Mindanao: 0.00017704580549556028\n",
      "70: Household Head Occupation_Corn farmers: 0.00017546121260662276\n",
      "71: Tenure Status_Own house, rent-free lot with consent of owner: 0.00016979086421586569\n",
      "72: Main Source of Water Supply_Shared, faucet, community water system: 0.00016329067154225788\n",
      "73: Toilet Facilities_Water-sealed, other depository, used exclusively by household: 0.00015994252843308111\n",
      "74: Household Head Highest Grade Completed_First Year High School: 0.00015525325422294345\n",
      "75: Region_XI - Davao Region: 0.000145992242640839\n",
      "76: Household Head Occupation_Rice farmers: 0.00014228819209385747\n",
      "77: Household Head Marital Status_Married: 0.00014133277093057476\n",
      "78: Main Source of Water Supply_Protected spring, river, stream, etc: 0.00014089590526203952\n",
      "79: Household Head Marital Status_Married: 0.0001403791205444996\n",
      "80: Toilet Facilities_Water-sealed, sewer septic tank, shared with other household: 0.00013538950664219033\n",
      "81: Household Head Occupation_Farmhands and laborers: 0.00013534643945293704\n",
      "82: Household Head Occupation_General managers/managing proprietors in wholesale and retail trade: 0.00013163047192339805\n",
      "83: Region_VI - Western Visayas: 0.00012968820463248637\n",
      "84: Household Head Marital Status_Widowed: 0.00012723863721095742\n",
      "85: Household Head Marital Status_Widowed: 0.00012675531413349592\n",
      "86: Main Source of Water Supply_Tubed/piped shallow well: 0.00012270561992409543\n",
      "87: Household Head Highest Grade Completed_Grade 4: 0.00012153882150169512\n",
      "88: Household Head Highest Grade Completed_Second Year High School: 0.00012042067383058899\n",
      "89: Region_VIII - Eastern Visayas: 0.00011733822414306115\n",
      "90: Household Head Highest Grade Completed_Business and Administration Programs: 0.00011706998144206122\n",
      "91: Type of Walls_Quite Strong: 0.00011691007899117503\n",
      "92: Region_Caraga: 0.00011595423780216127\n",
      "93: Household Head Highest Grade Completed_Grade 5: 0.0001153944212083378\n",
      "94: Toilet Facilities_None: 0.00011365597211688384\n",
      "95: Household Head Occupation_Carpenters and joiners: 0.00010112872687203805\n",
      "96: Region_NCR: 9.909821220067377e-05\n",
      "97: Household Head Highest Grade Completed_Grade 3: 9.865228524950349e-05\n",
      "98: Household Head Occupation_Hog raising farmers: 9.76523932932084e-05\n",
      "99: Household Head Highest Grade Completed_Post Baccalaureate: 9.725149955949483e-05\n",
      "100: Type of Walls_Very Light: 9.693284528659105e-05\n",
      "101: Household Head Highest Grade Completed_Grade 2: 9.511486420787316e-05\n",
      "102: Household Head Highest Grade Completed_Transport Services Programs: 9.487334974484307e-05\n"
     ]
    }
   ],
   "source": [
    "#50 most important predictors of family income and their importance scores\n",
    "for i in range(102):\n",
    "    print(str(i+1)+\": \"+X_train.columns[important_features_list[i]]+\": \"+str(important_features_dict[important_features_list[i]]))"
   ]
  },
  {
   "cell_type": "code",
   "execution_count": 18,
   "metadata": {},
   "outputs": [
    {
     "name": "stdout",
     "output_type": "stream",
     "text": [
      "1.0\n"
     ]
    }
   ],
   "source": [
    "summation = 0\n",
    "for i in range(len(important_features_dict)):\n",
    "    summation+=important_features_dict[important_features_list[i]]\n",
    "print(round(summation,2))"
   ]
  },
  {
   "cell_type": "code",
   "execution_count": 19,
   "metadata": {},
   "outputs": [
    {
     "name": "stdout",
     "output_type": "stream",
     "text": [
      "89.48% accuracy\n"
     ]
    }
   ],
   "source": [
    "from sklearn.metrics import r2_score\n",
    "y_predict = model.predict(X_test)\n",
    "print(str(round(r2_score(y_test,y_predict)*100,2))+\"% accuracy\")"
   ]
  },
  {
   "cell_type": "code",
   "execution_count": 21,
   "metadata": {},
   "outputs": [],
   "source": [
    "from tpot import TPOTRegressor"
   ]
  },
  {
   "cell_type": "code",
   "execution_count": 22,
   "metadata": {},
   "outputs": [],
   "source": [
    "# tpot = TPOTRegressor(generations=1, population_size=50,scoring='r2', verbosity=2,n_jobs=-1, warm_start=True)\n",
    "# tpot.fit(X_train, y_train.values.ravel())\n",
    "# print('from tpot.score')"
   ]
  }
 ],
 "metadata": {
  "kernelspec": {
   "display_name": "Python 3",
   "language": "python",
   "name": "python3"
  },
  "language_info": {
   "codemirror_mode": {
    "name": "ipython",
    "version": 3
   },
   "file_extension": ".py",
   "mimetype": "text/x-python",
   "name": "python",
   "nbconvert_exporter": "python",
   "pygments_lexer": "ipython3",
   "version": "3.8.1"
  }
 },
 "nbformat": 4,
 "nbformat_minor": 4
}
